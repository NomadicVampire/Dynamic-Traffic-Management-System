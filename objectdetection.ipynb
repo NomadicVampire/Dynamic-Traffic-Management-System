{
 "cells": [
  {
   "cell_type": "code",
   "execution_count": 16,
   "id": "ccbbca73",
   "metadata": {},
   "outputs": [],
   "source": [
    "import cv2\n",
    "from vehicle_detector import VehicleDetector\n",
    "import matplotlib.pyplot as plt"
   ]
  },
  {
   "cell_type": "code",
   "execution_count": 17,
   "id": "356d3baf",
   "metadata": {},
   "outputs": [],
   "source": [
    "vd = VehicleDetector()"
   ]
  },
  {
   "cell_type": "code",
   "execution_count": 23,
   "id": "041059a8",
   "metadata": {},
   "outputs": [
    {
     "name": "stdout",
     "output_type": "stream",
     "text": [
      "13\n"
     ]
    },
    {
     "data": {
      "text/plain": [
       "-1"
      ]
     },
     "execution_count": 23,
     "metadata": {},
     "output_type": "execute_result"
    }
   ],
   "source": [
    "img = cv2.imread('img/trafficCars.jpeg')\n",
    "vehicle_boxes = vd.detect_vehicles(img)\n",
    "vehicle_count = len(vehicle_boxes)\n",
    "for box in vehicle_boxes:\n",
    "        x, y, w, h = box\n",
    "        cv2.rectangle(img, (x, y), (x + w, y + h), (0, 255, 0), 2)\n",
    "\n",
    "        cv2.putText(img, \"Vehicles Detected: \" + str(vehicle_count), (20, 50), 0, 1, (0, 0, 255), 3)\n",
    "        \n",
    "print(vehicle_count)\n",
    "\n",
    "cv2.imshow(\"Cars\", img)\n",
    "cv2.waitKey(0)"
   ]
  },
  {
   "cell_type": "code",
   "execution_count": null,
   "id": "9d8735ce",
   "metadata": {},
   "outputs": [],
   "source": []
  },
  {
   "cell_type": "code",
   "execution_count": null,
   "id": "aa737d38",
   "metadata": {},
   "outputs": [],
   "source": []
  }
 ],
 "metadata": {
  "kernelspec": {
   "display_name": "Python 3 (ipykernel)",
   "language": "python",
   "name": "python3"
  },
  "language_info": {
   "codemirror_mode": {
    "name": "ipython",
    "version": 3
   },
   "file_extension": ".py",
   "mimetype": "text/x-python",
   "name": "python",
   "nbconvert_exporter": "python",
   "pygments_lexer": "ipython3",
   "version": "3.9.7"
  }
 },
 "nbformat": 4,
 "nbformat_minor": 5
}
