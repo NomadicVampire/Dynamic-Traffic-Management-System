{
 "cells": [
  {
   "cell_type": "code",
   "execution_count": 29,
   "id": "ccbbca73",
   "metadata": {},
   "outputs": [],
   "source": [
    "import cv2\n",
    "from vehicle_detector import VehicleDetector\n",
    "import glob"
   ]
  },
  {
   "cell_type": "code",
   "execution_count": 30,
   "id": "356d3baf",
   "metadata": {},
   "outputs": [],
   "source": [
    "# Load images from a folder\n",
    "images_folder = glob.glob(\"img/*.jpg\")"
   ]
  },
  {
   "cell_type": "code",
   "execution_count": 36,
   "id": "041059a8",
   "metadata": {},
   "outputs": [
    {
     "name": "stdout",
     "output_type": "stream",
     "text": [
      "Total current count 4\n",
      "Total current count 2\n",
      "Total current count 2\n",
      "Total current count 5\n",
      "Total current count 4\n",
      "Total current count 4\n",
      "Total current count 3\n",
      "Total current count 1\n",
      "Total current count 2\n",
      "Total current count 2\n",
      "Total current count 1\n",
      "Total current count 6\n",
      "Total current count 3\n",
      "Total current count 4\n",
      "Total current count 5\n",
      "Total current count 2\n",
      "Total current count 7\n",
      "Total current count 3\n",
      "Total current count 4\n",
      "Total current count 2\n",
      "Total current count 3\n",
      "Total current count 1\n",
      "Total current count 13\n"
     ]
    }
   ],
   "source": [
    "vd = VehicleDetector()\n",
    "\n",
    "\n",
    "# Loop through all the images\n",
    "for img_path in images_folder:\n",
    "#     print(\"Img path\", img_path)\n",
    "    img = cv2.imread(img_path)\n",
    "    vehicle_boxes = vd.detect_vehicles(img)\n",
    "    vehicle_count = len(vehicle_boxes)\n",
    "    \n",
    "    for box in vehicle_boxes:\n",
    "        x, y, w, h = box\n",
    "        cv2.rectangle(img, (x, y), (x + w, y + h), (25, 0, 180), 3)\n",
    "        cv2.putText(img, \"Vehicles: \" + str(vehicle_count), (20, 50), 0, 2, (100, 200, 0), 3)\n",
    "    print(\"Total current count\", vehicle_count)\n",
    "    cv2.imshow(\"Cars\", img)\n",
    "    cv2.waitKey(0)\n",
    "\n",
    "\n"
   ]
  },
  {
   "cell_type": "code",
   "execution_count": null,
   "id": "9d8735ce",
   "metadata": {},
   "outputs": [],
   "source": [
    "\n"
   ]
  }
 ],
 "metadata": {
  "kernelspec": {
   "display_name": "Python 3 (ipykernel)",
   "language": "python",
   "name": "python3"
  },
  "language_info": {
   "codemirror_mode": {
    "name": "ipython",
    "version": 3
   },
   "file_extension": ".py",
   "mimetype": "text/x-python",
   "name": "python",
   "nbconvert_exporter": "python",
   "pygments_lexer": "ipython3",
   "version": "3.9.7"
  }
 },
 "nbformat": 4,
 "nbformat_minor": 5
}
